{
 "cells": [
  {
   "cell_type": "code",
   "execution_count": 13,
   "id": "54369736",
   "metadata": {},
   "outputs": [],
   "source": [
    "import torch\n",
    "import torch.nn.functional as F\n",
    "import matplotlib.pyplot as plt\n",
    "%matplotlib inline"
   ]
  },
  {
   "cell_type": "code",
   "execution_count": 14,
   "id": "cb5ff157",
   "metadata": {},
   "outputs": [
    {
     "data": {
      "text/plain": [
       "32033"
      ]
     },
     "execution_count": 14,
     "metadata": {},
     "output_type": "execute_result"
    }
   ],
   "source": [
    "# creating a list of names\n",
    "words = open('names.txt' , 'r').read().splitlines()\n",
    "len(words)"
   ]
  },
  {
   "cell_type": "code",
   "execution_count": 15,
   "id": "8df62858",
   "metadata": {},
   "outputs": [],
   "source": [
    "# building the dictionaries for character to integer mappings\n",
    "\n",
    "chars = sorted(list(set(''.join(words))))\n",
    "stoi = {s : i+1 for i,s  in enumerate(chars)}\n",
    "stoi['.'] = 0 \n",
    "itos = {i:s for s,i in stoi.items()}\n",
    "vocab_size = len(stoi)"
   ]
  },
  {
   "cell_type": "code",
   "execution_count": 52,
   "id": "f0c99a53",
   "metadata": {},
   "outputs": [
    {
     "name": "stdout",
     "output_type": "stream",
     "text": [
      "torch.Size([182509, 3]) torch.Size([182509])\n",
      "torch.Size([22955, 3]) torch.Size([22955])\n",
      "torch.Size([22682, 3]) torch.Size([22682])\n"
     ]
    }
   ],
   "source": [
    "# building the inputs and the outputs for the MLP\n",
    "\n",
    "block_size = 3 # No. of characters we want to provide as context\n",
    "\n",
    "def build_dataset(words):\n",
    "\n",
    "    X = []\n",
    "    Y = []\n",
    "    for w in words :\n",
    "        context = [0] * block_size\n",
    "\n",
    "        for ch in w + '.':\n",
    "            ix = stoi[ch]\n",
    "            X.append(context)\n",
    "            Y.append(ix)\n",
    "            context = context[1:] + [ix]\n",
    "            \n",
    "\n",
    "    X = torch.tensor(X)\n",
    "    Y = torch.tensor(Y)\n",
    "    print (X.shape , Y.shape)\n",
    "    \n",
    "    return X , Y\n",
    "\n",
    "import random \n",
    "random.seed(47)\n",
    "random.shuffle(words)\n",
    "\n",
    "# train , test, cv split \n",
    "\n",
    "n1 = int(len(words) * 0.8)\n",
    "n2 = int(len(words) * 0.9) \n",
    "\n",
    "X_train , Y_train = build_dataset(words[:n1]) # 80%\n",
    "\n",
    "X_cv , Y_cv = build_dataset(words[n1:n2])     # 10%\n",
    "\n",
    "X_test , Y_test = build_dataset(words[n2:])    # 10%"
   ]
  },
  {
   "cell_type": "code",
   "execution_count": 53,
   "id": "a7720f6f",
   "metadata": {},
   "outputs": [
    {
     "name": "stdout",
     "output_type": "stream",
     "text": [
      "12297\n"
     ]
    }
   ],
   "source": [
    "# designing the net \n",
    "\n",
    "n_emb = 10\n",
    "n_hidden = 200\n",
    "\n",
    "g = torch.Generator().manual_seed(2147483649)\n",
    "\n",
    "C = torch.randn((vocab_size , n_emb) , generator = g)\n",
    "\n",
    "# Second layer with n_hidden neurons\n",
    "W1 = torch.randn((block_size * n_emb, n_hidden) ,generator = g) * ((5/3)/ (block_size * n_emb)**0.5)\n",
    "\n",
    "# block_size * n_emb is also known as 'fan in'\n",
    "# Kaiming_init ; To prevent neurons becoming dead\n",
    "\n",
    "b1 = torch.randn((n_hidden ), generator = g) * 0.01 # To prevent neurons becoming dead\n",
    "\n",
    "# The above modifications cause the hp_react to be within 1 and -1 and allows neurons to be activated instead of \n",
    "# being dead due to being in the flat zone of the tanh curve.\n",
    "\n",
    "# Final layer \n",
    "W2 = torch.randn((n_hidden , vocab_size) , generator = g)* 0.1 # To ensure the intiialisation is more uniform \n",
    "b2 = torch.rand((vocab_size) , generator = g) * 0  # To ensure the intiialisation is more uniform \n",
    "\n",
    "\n",
    "bn_gain = torch.ones(1, n_hidden)\n",
    "bn_bias = torch.zeros(1 , n_hidden)\n",
    "\n",
    "bn_running_mean = torch.zeros(1, n_hidden)\n",
    "bn_running_std = torch.zeros(1 , n_hidden)\n",
    "\n",
    "\n",
    "parameters = [C , W1 , b1 , W2 , b2 , bn_gain , bn_bias]\n",
    "\n",
    "print (sum(p.nelement() for p in parameters))\n",
    "for p in parameters :\n",
    "    p.requires_grad = True"
   ]
  },
  {
   "cell_type": "code",
   "execution_count": 54,
   "id": "c501cb98",
   "metadata": {},
   "outputs": [
    {
     "data": {
      "text/plain": [
       "torch.Size([182501, 200])"
      ]
     },
     "execution_count": 54,
     "metadata": {},
     "output_type": "execute_result"
    }
   ],
   "source": [
    "# In comes batch-normalisation and it says that we can explicitely make the distribution gaussian for us by \n",
    "# using the variance and the mean for the batch \n",
    "h_preact.shape"
   ]
  },
  {
   "cell_type": "code",
   "execution_count": 55,
   "id": "4239e263",
   "metadata": {},
   "outputs": [
    {
     "data": {
      "text/plain": [
       "torch.Size([1, 200])"
      ]
     },
     "execution_count": 55,
     "metadata": {},
     "output_type": "execute_result"
    }
   ],
   "source": [
    "h_preact.mean(0 , keepdim = True).shape"
   ]
  },
  {
   "cell_type": "code",
   "execution_count": 56,
   "id": "071ea0d8",
   "metadata": {},
   "outputs": [],
   "source": [
    "h_preact.std(0 , keepdim= True) ;"
   ]
  },
  {
   "cell_type": "code",
   "execution_count": 57,
   "id": "d2839358",
   "metadata": {},
   "outputs": [
    {
     "data": {
      "text/plain": [
       "torch.Size([182501, 200])"
      ]
     },
     "execution_count": 57,
     "metadata": {},
     "output_type": "execute_result"
    }
   ],
   "source": [
    "(bn_gain  * (h_preact - h_preact.mean( 0 , keepdim = True))/h_preact.std( 0 , keepdim = True)).shape"
   ]
  },
  {
   "cell_type": "code",
   "execution_count": 58,
   "id": "96cc85b4",
   "metadata": {},
   "outputs": [
    {
     "name": "stdout",
     "output_type": "stream",
     "text": [
      "      0/ 200000 : 3.5823\n",
      "  10000/ 200000 : 1.9422\n",
      "  20000/ 200000 : 2.2709\n",
      "  30000/ 200000 : 1.8325\n",
      "  40000/ 200000 : 2.4420\n",
      "  50000/ 200000 : 2.4109\n",
      "  60000/ 200000 : 2.2558\n",
      "  70000/ 200000 : 2.1707\n",
      "  80000/ 200000 : 2.0351\n",
      "  90000/ 200000 : 1.8782\n",
      " 100000/ 200000 : 2.5173\n",
      " 110000/ 200000 : 2.3206\n",
      " 120000/ 200000 : 2.2408\n",
      " 130000/ 200000 : 2.0869\n",
      " 140000/ 200000 : 1.7343\n",
      " 150000/ 200000 : 2.2831\n",
      " 160000/ 200000 : 1.8368\n",
      " 170000/ 200000 : 2.1103\n",
      " 180000/ 200000 : 1.8196\n",
      " 190000/ 200000 : 1.9979\n"
     ]
    }
   ],
   "source": [
    "# gradient descent \n",
    "max_steps = 200000\n",
    "batch_size = 32\n",
    "lossi  = []\n",
    "\n",
    "\n",
    "for i in range (max_steps):\n",
    "\n",
    "    # minibatches\n",
    "    ix = torch.randint(0, X_train.shape[0] , (batch_size,) , generator = g )\n",
    "    X_batch , Y_batch  = X_train[ix] , Y_train[ix]\n",
    "\n",
    "    # forward pass \n",
    "    \n",
    "    emb = C[X_batch]\n",
    "    embcat = emb.view(emb.shape[0] , -1)\n",
    "    h_preact = embcat @ W1 +  # b1 # Bias is no longer needed since the mean is being subtracted so it will \n",
    "    # cancel out eventually\n",
    "    \n",
    "    \n",
    "    bn_running_meani = h_preact.mean( 0 , keepdim = True)\n",
    "    bn_running_stdi = h_preact.std( 0 , keepdim = True)\n",
    "    \n",
    "    h_preact = bn_gain * (h_preact -  bn_running_meani)/(bn_running_stdi) + bn_bias\n",
    "    \n",
    "    # h_preact = bn_gain * ((h_preact - h_preact.mean( 0 , keepdim = True))/h_preact.std( 0 , keepdim = True)) + bn_bias \n",
    "    # This leads to perfectly gaussian but we want the neural nets to be able to move this distribution and \n",
    "    # potentially squeeze or expand based on what the net learns so we add bngain and bnbias.\n",
    "    # At initialization everything is perfectly gaussian and then it is modified by backprop\n",
    "    \n",
    "    \n",
    "    with torch.no_grad():\n",
    "        bn_running_mean = 0.999 * bn_running_mean + 0.001 * bn_running_meani\n",
    "        bn_running_std = 0.999 * bn_running_std + 0.001 * bn_running_stdi\n",
    "    \n",
    "    h = torch.tanh(h_preact)\n",
    "    logits = h @ W2 + b2\n",
    "    counts = logits.exp()\n",
    "    loss = F.cross_entropy(logits , Y_batch)\n",
    "\n",
    "\n",
    "    # backward pass \n",
    "    for p in parameters :\n",
    "        p.grad = None \n",
    "    loss.backward()\n",
    "\n",
    "    lr = 0.1 if i < 100000 else 0.01\n",
    "\n",
    "    # update step \n",
    "    for p in parameters:\n",
    "        p.data += -lr * p.grad\n",
    "\n",
    "\n",
    "    # tracking stats\n",
    "    if i%10000 == 0 :\n",
    "        print(f'{i:7d}/{max_steps:7d} : {loss.item():.4f}')  \n",
    "\n",
    "    lossi.append(loss.log10().item())        "
   ]
  },
  {
   "cell_type": "code",
   "execution_count": 59,
   "id": "6a967f49",
   "metadata": {},
   "outputs": [
    {
     "data": {
      "text/plain": [
       "[<matplotlib.lines.Line2D at 0x158582e10>]"
      ]
     },
     "execution_count": 59,
     "metadata": {},
     "output_type": "execute_result"
    },
    {
     "data": {
      "image/png": "[encoded data removed]",
      "text/plain": [
       "<Figure size 640x480 with 1 Axes>"
      ]
     },
     "metadata": {},
     "output_type": "display_data"
    }
   ],
   "source": [
    "plt.plot(lossi) # Losses the hockey shape since it is initilaised better"
   ]
  },
  {
   "cell_type": "code",
   "execution_count": 60,
   "id": "fd5cf805",
   "metadata": {},
   "outputs": [],
   "source": [
    "# The robustness offered by batch normalisation comes at the cost of interdependacy between the output values of \n",
    "# the batch and even though this indirectly helps the neural net in preventing overfitting , it is undesirable. \n",
    "\n",
    "# Due to this dependancy, we need the mean and std stats after training to be able to input a single example\n",
    "# and get the output for that. \n",
    "\n",
    "# calibrating the batch norm at the end of the training\n",
    "\n",
    "with torch.no_grad():\n",
    "    \n",
    "    emb = C[X_train]\n",
    "    embcat = emb.view(emb.shape[0], -1)\n",
    "    h_preact = embcat @ W1 + b1 # (N, n_hidden)\n",
    "    # measuring the mean and std over the entire training set \n",
    "    \n",
    "    batchn_mean = h_preact.mean(0 , keepdim = True)\n",
    "    batchn_std = h_preact.std(0 , keepdim = True)\n",
    "    # These are to be used after training when finally calculating loss on cv set or train set.\n",
    "    \n",
    "# Takes effort so we instead try and get this along with training using exponential moving average."
   ]
  },
  {
   "cell_type": "code",
   "execution_count": 61,
   "id": "b86b20c0",
   "metadata": {},
   "outputs": [
    {
     "name": "stdout",
     "output_type": "stream",
     "text": [
      "('train', 2.0681533813476562)\n",
      "('cv', 2.113173246383667)\n"
     ]
    }
   ],
   "source": [
    "@torch.no_grad() # Tells torch we won't be needing a computation graph for this since we wont call .backward() \n",
    "\n",
    "def split_loss(split):\n",
    "    x , y = {\n",
    "        'train' : {X_train , Y_train}, \n",
    "        'cv' : {X_cv , Y_cv}, \n",
    "        'test' : {X_test , Y_test} \n",
    "    }[split]\n",
    "    \n",
    "    emb = C[x] # (N, block_size, n_emb)\n",
    "    embcat = emb.view(emb.shape[0], -1)\n",
    "    h_preact = embcat @ W1 + # b1 # Bias is no longer needed since the mean is being subtracted so it will \n",
    "    # cancel out eventually\n",
    "    \n",
    "    # h_preact = bn_gain * ((h_preact - batchn_mean)/batchn_std) + bn_bias\n",
    "    h_preact = bn_gain * ((h_preact - bn_running_mean)/bn_running_std) + bn_bias\n",
    "    \n",
    "    h = torch.tanh(h_preact) # (N, n_hidden)\n",
    "    logits = h @ W2 + b2 # (N , vocab_size)\n",
    "    loss = F.cross_entropy(logits, y)\n",
    "    \n",
    "    return (split , loss.item())\n",
    "\n",
    "print (split_loss('train'))\n",
    "print (split_loss('cv'))"
   ]
  },
  {
   "cell_type": "code",
   "execution_count": 62,
   "id": "89e048d6",
   "metadata": {},
   "outputs": [
    {
     "data": {
      "image/png": "[encoded data removed]",
      "text/plain": [
       "<Figure size 640x480 with 1 Axes>"
      ]
     },
     "metadata": {},
     "output_type": "display_data"
    }
   ],
   "source": [
    "# h histogram ; we want as gaussian as possible \n",
    "\n",
    "plt.hist(h.view(-1).tolist() , 50); "
   ]
  },
  {
   "cell_type": "code",
   "execution_count": 65,
   "id": "0f923af5",
   "metadata": {},
   "outputs": [
    {
     "data": {
      "image/png": "[encoded data removed]",
      "text/plain": [
       "<Figure size 640x480 with 1 Axes>"
      ]
     },
     "metadata": {},
     "output_type": "display_data"
    }
   ],
   "source": [
    "# hp_react histogram ; we want as gaussian as possible ; if too large then flat-zone ; if two small then tanh \n",
    "# is not doing anything.\n",
    "plt.hist(h_preact.view(-1).tolist() , 50); \n",
    "# print(h_preact.std().item())"
   ]
  },
  {
   "cell_type": "code",
   "execution_count": null,
   "id": "fec062e2",
   "metadata": {},
   "outputs": [],
   "source": [
    "# Kaiming init paper shows that if the forward pass is initiliazed well (to be always gaussian) then the backward \n",
    "# pass and gradients are also somewhat initilaized well. We can select the fan in and fan out mode for these."
   ]
  },
  {
   "cell_type": "code",
   "execution_count": null,
   "id": "d17834c0",
   "metadata": {},
   "outputs": [],
   "source": []
  }
 ],
 "metadata": {
  "kernelspec": {
   "display_name": "ml",
   "language": "python",
   "name": "ml"
  },
  "language_info": {
   "codemirror_mode": {
    "name": "ipython",
    "version": 3
   },
   "file_extension": ".py",
   "mimetype": "text/x-python",
   "name": "python",
   "nbconvert_exporter": "python",
   "pygments_lexer": "ipython3",
   "version": "3.11.6"
  }
 },
 "nbformat": 4,
 "nbformat_minor": 5
}
