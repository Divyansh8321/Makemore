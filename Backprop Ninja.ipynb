{
 "cells": [
  {
   "cell_type": "code",
   "execution_count": 1,
   "id": "985ec4e6",
   "metadata": {},
   "outputs": [],
   "source": [
    "import torch\n",
    "import torch.nn.functional as F\n",
    "import matplotlib \n",
    "%matplotlib inline "
   ]
  },
  {
   "cell_type": "code",
   "execution_count": 2,
   "id": "b66839d6",
   "metadata": {},
   "outputs": [],
   "source": [
    "words = open('names.txt' , 'r').read().splitlines()"
   ]
  },
  {
   "cell_type": "code",
   "execution_count": 3,
   "id": "95355eb9",
   "metadata": {},
   "outputs": [],
   "source": [
    "# Building the vocabulary\n",
    "chars = (sorted(list(set(''.join(words)))))\n",
    "stoi =  {s:i+1 for i,s in enumerate(chars)}\n",
    "stoi['.'] = 0\n",
    "itos = {i:s for s,i in stoi.items()}\n",
    "vocab_size = len(stoi)"
   ]
  },
  {
   "cell_type": "code",
   "execution_count": 4,
   "id": "0cf738cf",
   "metadata": {},
   "outputs": [
    {
     "name": "stdout",
     "output_type": "stream",
     "text": [
      "torch.Size([182501, 3]) torch.Size([182501])\n",
      "torch.Size([22802, 3]) torch.Size([22802])\n",
      "torch.Size([22843, 3]) torch.Size([22843])\n"
     ]
    }
   ],
   "source": [
    "block_size = 3 # No. of characters we want to provide as context\n",
    "\n",
    "def build_dataset(words):\n",
    "\n",
    "    X = []\n",
    "    Y = []\n",
    "    for w in words :\n",
    "        context = [0] * block_size\n",
    "\n",
    "        for ch in w + '.':\n",
    "            ix = stoi[ch]\n",
    "            X.append(context)\n",
    "            Y.append(ix)\n",
    "            context = context[1:] + [ix]\n",
    "            \n",
    "\n",
    "    X = torch.tensor(X)\n",
    "    Y = torch.tensor(Y)\n",
    "    print (X.shape , Y.shape)\n",
    "    \n",
    "    return X , Y\n",
    "\n",
    "import random \n",
    "random.seed(47)\n",
    "random.shuffle(words)\n",
    "\n",
    "# train , test, cv split \n",
    "\n",
    "n1 = int(len(words) * 0.8)\n",
    "n2 = int(len(words) * 0.9) \n",
    "\n",
    "X_train , Y_train = build_dataset(words[:n1]) # 80%\n",
    "\n",
    "X_cv , Y_cv = build_dataset(words[n1:n2])     # 10%\n",
    "\n",
    "X_test , Y_test = build_dataset(words[n2:])    # 10%"
   ]
  },
  {
   "cell_type": "code",
   "execution_count": 5,
   "id": "7f59749b",
   "metadata": {},
   "outputs": [],
   "source": [
    "# utility function to compare manual gradients to PyTorch gradients\n",
    "\n",
    "def cmp(s, dt, t):\n",
    "    ex = torch.all(dt == t.grad).item()\n",
    "    app = torch.allclose(dt, t.grad)\n",
    "    maxdiff = (dt - t.grad).abs().max().item()\n",
    "    print(f'{s:15s} | exact: {str(ex):5s} | approximate: {str(app):5s} | maxdiff: {maxdiff}')"
   ]
  },
  {
   "cell_type": "code",
   "execution_count": 6,
   "id": "05d211d0",
   "metadata": {},
   "outputs": [
    {
     "name": "stdout",
     "output_type": "stream",
     "text": [
      "4137\n"
     ]
    }
   ],
   "source": [
    "n_embd = 10 # the dimensionality of the character embedding vectors\n",
    "n_hidden = 64 # the number of neurons in the hidden layer of the MLP\n",
    "\n",
    "g = torch.Generator().manual_seed(2147483647) # for reproducibility\n",
    "C  = torch.randn((vocab_size, n_embd),            generator=g)\n",
    "# Layer 1\n",
    "W1 = torch.randn((n_embd * block_size, n_hidden), generator=g) * (5/3)/((n_embd * block_size)**0.5)\n",
    "b1 = torch.randn(n_hidden,                        generator=g) * 0.1 # using b1 just for fun, it's useless because of BN\n",
    "# Layer 2\n",
    "W2 = torch.randn((n_hidden, vocab_size),          generator=g) * 0.1\n",
    "b2 = torch.randn(vocab_size,                      generator=g) * 0.1\n",
    "# BatchNorm parameters\n",
    "bngain = torch.randn((1, n_hidden))*0.1 + 1.0  # To make it sort of torch.ones but not exactly.\n",
    "bnbias = torch.randn((1, n_hidden))*0.1\n",
    "\n",
    "# Note: I am initializating many of these parameters in non-standard ways\n",
    "# because sometimes initializating with e.g. all zeros could mask an incorrect\n",
    "# implementation of the backward pass.\n",
    "\n",
    "parameters = [C, W1, b1, W2, b2, bngain, bnbias]\n",
    "print(sum(p.nelement() for p in parameters)) # number of parameters in total\n",
    "for p in parameters:\n",
    "    p.requires_grad = True"
   ]
  },
  {
   "cell_type": "code",
   "execution_count": 7,
   "id": "16e04a2b",
   "metadata": {},
   "outputs": [],
   "source": [
    "batch_size = 32\n",
    "n = batch_size # a shorter variable also, for convenience\n",
    "# construct a minibatch\n",
    "ix = torch.randint(0, X_train.shape[0], (batch_size,), generator=g)\n",
    "Xb, Yb = X_train[ix], Y_train[ix] # batch X,Y"
   ]
  },
  {
   "cell_type": "code",
   "execution_count": 8,
   "id": "39762c3e",
   "metadata": {},
   "outputs": [
    {
     "data": {
      "text/plain": [
       "tensor(3.4745, grad_fn=<NegBackward0>)"
      ]
     },
     "execution_count": 8,
     "metadata": {},
     "output_type": "execute_result"
    }
   ],
   "source": [
    "# forward pass, \"chunkated\" into smaller steps that are possible to backward one at a time\n",
    "\n",
    "emb = C[Xb] # embed the characters into vectors\n",
    "embcat = emb.view(emb.shape[0], -1) # concatenate the vectors\n",
    "# Linear layer 1\n",
    "hprebn = embcat @ W1 + b1 # hidden layer pre-activation\n",
    "# BatchNorm layer\n",
    "bnmeani = 1/n*hprebn.sum(0, keepdim=True)\n",
    "bndiff = hprebn - bnmeani\n",
    "bndiff2 = bndiff**2\n",
    "bnvar = 1/(n-1)*(bndiff2).sum(0, keepdim=True) # note: Bessel's correction (dividing by n-1, not n)\n",
    "bnvar_inv = (bnvar + 1e-5)**-0.5\n",
    "bnraw = bndiff * bnvar_inv\n",
    "hpreact = bngain * bnraw + bnbias\n",
    "# Non-linearity\n",
    "h = torch.tanh(hpreact) # hidden layer\n",
    "# Linear layer 2\n",
    "logits = h @ W2 + b2 # output layer\n",
    "# cross entropy loss (same as F.cross_entropy(logits, Yb))\n",
    "logit_maxes = logits.max(1, keepdim=True).values\n",
    "norm_logits = logits - logit_maxes # subtract max for numerical stability\n",
    "counts = norm_logits.exp()\n",
    "counts_sum = counts.sum(1, keepdims=True)\n",
    "counts_sum_inv = counts_sum**-1 # if I use (1.0 / counts_sum) instead then I can't get backprop to be bit exact...\n",
    "probs = counts * counts_sum_inv\n",
    "logprobs = probs.log() # Plugs out the probabilities of the correct next characters in the sequence\n",
    "loss = -logprobs[range(n), Yb].mean()\n",
    "\n",
    "# PyTorch backward pass\n",
    "for p in parameters:\n",
    "    p.grad = None\n",
    "for t in [logprobs, probs, counts, counts_sum, counts_sum_inv, # afaik there is no cleaner way\n",
    "          norm_logits, logit_maxes, logits, h, hpreact, bnraw,\n",
    "         bnvar_inv, bnvar, bndiff2, bndiff, hprebn, bnmeani,\n",
    "         embcat, emb]:\n",
    "    t.retain_grad()\n",
    "loss.backward()\n",
    "loss"
   ]
  },
  {
   "cell_type": "code",
   "execution_count": 16,
   "id": "6fefbd36",
   "metadata": {},
   "outputs": [
    {
     "name": "stdout",
     "output_type": "stream",
     "text": [
      "logprobs        | exact: True  | approximate: True  | maxdiff: 0.0\n",
      "probs           | exact: True  | approximate: True  | maxdiff: 0.0\n",
      "counts_sum_inv  | exact: True  | approximate: True  | maxdiff: 0.0\n",
      "counts_sum      | exact: True  | approximate: True  | maxdiff: 0.0\n",
      "counts          | exact: True  | approximate: True  | maxdiff: 0.0\n",
      "norm_logits     | exact: True  | approximate: True  | maxdiff: 0.0\n",
      "logits          | exact: True  | approximate: True  | maxdiff: 0.0\n",
      "norm_logits     | exact: True  | approximate: True  | maxdiff: 0.0\n",
      "h               | exact: True  | approximate: True  | maxdiff: 0.0\n",
      "W2              | exact: True  | approximate: True  | maxdiff: 0.0\n",
      "b2              | exact: True  | approximate: True  | maxdiff: 0.0\n",
      "hpreact         | exact: True  | approximate: True  | maxdiff: 0.0\n",
      "bnbias          | exact: True  | approximate: True  | maxdiff: 0.0\n",
      "bngain          | exact: True  | approximate: True  | maxdiff: 0.0\n",
      "bnraw           | exact: True  | approximate: True  | maxdiff: 0.0\n",
      "bnvar_inv       | exact: True  | approximate: True  | maxdiff: 0.0\n",
      "bnvar           | exact: True  | approximate: True  | maxdiff: 0.0\n",
      "bndiff2         | exact: True  | approximate: True  | maxdiff: 0.0\n",
      "bndiff          | exact: True  | approximate: True  | maxdiff: 0.0\n",
      "bnmeani         | exact: True  | approximate: True  | maxdiff: 0.0\n",
      "hprebn          | exact: True  | approximate: True  | maxdiff: 0.0\n"
     ]
    }
   ],
   "source": [
    "# Manual Backprops\n",
    "\n",
    "# For dlogprobs\n",
    "# example: loss = -1/3(a+b+c)\n",
    "#          dloss/da = -1/3 \n",
    "#          dloss/db = -1/3\n",
    "\n",
    "# what about the terms not picked up in dlogprobs , since they do not affect the loss ; their grad is 0.\n",
    "\n",
    "dlogprobs = torch.zeros_like(logprobs)\n",
    "dlogprobs[range(n) , Yb] = -1/n\n",
    "cmp('logprobs', dlogprobs, logprobs)\n",
    "\n",
    "\n",
    "# For probs\n",
    "# dprobs = dlogprobs * dprobs/dlogprobs\n",
    "# dprobs/dlogprobs = 1/probs\n",
    "\n",
    "dprobs = dlogprobs * (1/probs)\n",
    "cmp('probs', dprobs, probs)\n",
    "\n",
    "\n",
    "# Intuitively what is does is it takes the probabilities of the next character and if these probabilitites are\n",
    "# close to one ; then they are simply passed through ; otherwise if they are very low like at the beginning \n",
    "# these probabilities are boosted.\n",
    "\n",
    "\n",
    "# For counts_sum_inv \n",
    "# Need to notice the shapes in probs = counts_sum_inv * counts\n",
    "# Here counts = [32,27] but counts_sum_inv is [32,1]\n",
    "# which means broadcasting is takeing place for the counts_sum_inv and it is being repeated or in autograd \n",
    "# terms, node is being used again ; therefore like we used to do before we are summing the gradients up here.\n",
    "\n",
    "dcounts_sum_inv = torch.sum(dprobs * counts , 1 , keepdim =True) # Gradient has same dim as counts_sum_inv \n",
    "cmp('counts_sum_inv', dcounts_sum_inv, counts_sum_inv)\n",
    "\n",
    "\n",
    "# For counts and counts_sum\n",
    "\n",
    "# Broadcasting will happen here for the first node contribution but since counts_sum_inv is also dependant on \n",
    "# counts ; therefore there is a branch and we will have to add contribution of that branch to the grad as well.\n",
    "\n",
    "dcounts = dprobs * counts_sum_inv\n",
    "\n",
    "dcounts_sum = (-1/(counts_sum ** 2)) * dcounts_sum_inv\n",
    "cmp('counts_sum', dcounts_sum, counts_sum)\n",
    "\n",
    "dcounts += torch.ones_like(counts) * dcounts_sum # Like in addition the grads just flow through\n",
    "cmp('counts', dcounts, counts)\n",
    "\n",
    "\n",
    "# For norm_logits\n",
    "\n",
    "dnorm_logits = norm_logits.exp() * dcounts\n",
    "cmp('norm_logits', dnorm_logits, norm_logits)\n",
    "\n",
    "\n",
    "# For logits and logit_maxes \n",
    "# Do not take logit_maxes to be constant and move on\n",
    "\n",
    "dlogits = 1 * dnorm_logits.clone()\n",
    "\n",
    "dlogit_maxes = - 1 * (dnorm_logits.clone().sum(1 , keepdim = True)) # Again think like multiple branches of that; \n",
    "# dlogit_maxes should not impact the loss in any case but due to floating point calculation we get about 1e-9.\n",
    "                      \n",
    "                      \n",
    "dlogits += F.one_hot(logits.max(1).indices , num_classes = logits.shape[1]) * dlogit_maxes\n",
    "# Intuitively dlogit_maxes are selected for the max points plucked out of logits\n",
    "                      \n",
    "cmp('logits', dlogits, logits)\n",
    "cmp('norm_logits', dnorm_logits, norm_logits)\n",
    "\n",
    "# For W2 , b2 and h \n",
    "\n",
    "dh =  dlogits @ W2.T\n",
    "dW2 = h.T @ dlogits\n",
    "db2 = dlogits.sum( 0 , keepdim = True)\n",
    "\n",
    "# Derivations is in notes but fun fact, just try and make the dims match and it will automatically give you the \n",
    "# correct result\n",
    "\n",
    "cmp('h', dh, h)\n",
    "cmp('W2', dW2, W2)\n",
    "cmp('b2', db2, b2)\n",
    "\n",
    "\n",
    "# For hpreact\n",
    "\n",
    "dhpreact = (1-h**2) * dh   # sec(hpreact)**2 = 1- tanh(hpreact)**2 = 1- h**2\n",
    "cmp('hpreact', dhpreact, hpreact)\n",
    "\n",
    "# For bnbias, bngain and bnraw\n",
    "\n",
    "dbnbias = dhpreact.sum(0 , keepdim = True)\n",
    "dbngain = (dhpreact * bnraw).sum(0 , keepdim= True)\n",
    "dbnraw = dhpreact * bngain \n",
    "\n",
    "\n",
    "cmp('bnbias', dbnbias, bnbias)\n",
    "cmp('bngain', dbngain, bngain)\n",
    "cmp('bnraw', dbnraw, bnraw)\n",
    "\n",
    "\n",
    "# For bnvar_inv, bnvar, bndiff2, bndiff, bnmeani, hprebn \n",
    "\n",
    "dbnvar_inv = (bndiff * dbnraw).sum(0 , keepdim = True)\n",
    "dbndiff = (dbnraw * bnvar_inv)\n",
    "\n",
    "dbnvar = -0.5 * ((bnvar + 1e-5) ** -1.5) * dbnvar_inv\n",
    "\n",
    "dbndiff2 = 1/(n-1) * torch.ones_like(bndiff2) * dbnvar\n",
    "\n",
    "dbndiff += 2 * bndiff * dbndiff2\n",
    "\n",
    "dhprebn = dbndiff.clone()\n",
    "dbnmeani = -dbndiff.clone().sum(0 , keepdim = True)\n",
    "dhprebn += 1/n * dbnmeani\n",
    "\n",
    "cmp('bnvar_inv', dbnvar_inv, bnvar_inv)\n",
    "cmp('bnvar', dbnvar, bnvar)\n",
    "cmp('bndiff2', dbndiff2, bndiff2)\n",
    "cmp('bndiff', dbndiff, bndiff)\n",
    "cmp('bnmeani', dbnmeani, bnmeani)\n",
    "cmp('hprebn', dhprebn, hprebn)\n",
    "\n",
    "# Broadcasting in the forward pass = Node reuse = Sum in the backward pass\n",
    "# When using sum in the forward pass = sort of a broadcasting in the backward pass (using torch.ones_like)"
   ]
  },
  {
   "cell_type": "code",
   "execution_count": 10,
   "id": "7d0f95b9",
   "metadata": {},
   "outputs": [
    {
     "data": {
      "text/plain": [
       "torch.Size([32, 64])"
      ]
     },
     "execution_count": 10,
     "metadata": {},
     "output_type": "execute_result"
    }
   ],
   "source": [
    "hprebn.shape"
   ]
  },
  {
   "cell_type": "code",
   "execution_count": 12,
   "id": "b0b0e8a4",
   "metadata": {},
   "outputs": [
    {
     "data": {
      "text/plain": [
       "torch.Size([32, 64])"
      ]
     },
     "execution_count": 12,
     "metadata": {},
     "output_type": "execute_result"
    }
   ],
   "source": [
    "bndiff2.shape"
   ]
  },
  {
   "cell_type": "code",
   "execution_count": 130,
   "id": "0f588ac4",
   "metadata": {},
   "outputs": [
    {
     "data": {
      "text/plain": [
       "torch.Size([1, 64])"
      ]
     },
     "execution_count": 130,
     "metadata": {},
     "output_type": "execute_result"
    }
   ],
   "source": [
    "bnmeani.shape"
   ]
  },
  {
   "cell_type": "code",
   "execution_count": null,
   "id": "f448b895",
   "metadata": {},
   "outputs": [],
   "source": []
  }
 ],
 "metadata": {
  "kernelspec": {
   "display_name": "ml",
   "language": "python",
   "name": "ml"
  },
  "language_info": {
   "codemirror_mode": {
    "name": "ipython",
    "version": 3
   },
   "file_extension": ".py",
   "mimetype": "text/x-python",
   "name": "python",
   "nbconvert_exporter": "python",
   "pygments_lexer": "ipython3",
   "version": "3.11.6"
  }
 },
 "nbformat": 4,
 "nbformat_minor": 5
}
