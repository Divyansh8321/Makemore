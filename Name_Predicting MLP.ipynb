{
 "cells": [
  {
   "cell_type": "code",
   "execution_count": 1,
   "id": "cdacd867",
   "metadata": {},
   "outputs": [],
   "source": [
    "import torch\n",
    "import torch.nn.functional as F\n",
    "import matplotlib.pyplot as plt\n",
    "%matplotlib inline"
   ]
  },
  {
   "cell_type": "code",
   "execution_count": 2,
   "id": "9f1864bf",
   "metadata": {},
   "outputs": [],
   "source": [
    "# creating a list of names\n",
    "words = open('names.txt' , 'r').read().splitlines()"
   ]
  },
  {
   "cell_type": "code",
   "execution_count": 3,
   "id": "01f75201",
   "metadata": {},
   "outputs": [
    {
     "data": {
      "text/plain": [
       "32033"
      ]
     },
     "execution_count": 3,
     "metadata": {},
     "output_type": "execute_result"
    }
   ],
   "source": [
    "len(words)"
   ]
  },
  {
   "cell_type": "code",
   "execution_count": 70,
   "id": "00e534fb",
   "metadata": {},
   "outputs": [],
   "source": [
    "# building the dictionaries like before\n",
    "\n",
    "chars = sorted(list(set(''.join(words))))\n",
    "stoi = {s : i+1 for i,s  in enumerate(chars)}\n",
    "stoi['.'] = 0 \n",
    "itos = {i:s for s,i in stoi.items()}\n",
    "    "
   ]
  },
  {
   "cell_type": "code",
   "execution_count": 5,
   "id": "1e5a878f",
   "metadata": {},
   "outputs": [],
   "source": [
    "# building the inputs and the outputs for the MLP\n",
    "\n",
    "block_size = 3 # No. of characters we want to provide as context\n",
    "\n",
    "X = []\n",
    "Y = []\n",
    "num =0\n",
    "for w in words :\n",
    "    context = [0] * block_size\n",
    "    \n",
    "    for ch in w + '.':\n",
    "        ix = stoi[ch]\n",
    "        X.append(context)\n",
    "        Y.append(ix)\n",
    "        # print (''.join(itos[i] for i in context), '-->' , itos[ix] )\n",
    "        context = context[1:] + [ix]\n",
    "        num += 1\n",
    "        \n",
    "X = torch.tensor(X)\n",
    "Y = torch.tensor(Y)"
   ]
  },
  {
   "cell_type": "code",
   "execution_count": 6,
   "id": "fdd20d65",
   "metadata": {},
   "outputs": [
    {
     "data": {
      "text/plain": [
       "(torch.Size([228146, 3]), torch.int64, torch.Size([228146]), torch.int64)"
      ]
     },
     "execution_count": 6,
     "metadata": {},
     "output_type": "execute_result"
    }
   ],
   "source": [
    "X.shape , X.dtype , Y.shape , Y.dtype"
   ]
  },
  {
   "cell_type": "code",
   "execution_count": 7,
   "id": "128561cf",
   "metadata": {},
   "outputs": [
    {
     "data": {
      "text/plain": [
       "tensor([[-0.8013, -0.7855],\n",
       "        [ 1.1050,  1.5122],\n",
       "        [-1.0945, -1.5391]])"
      ]
     },
     "execution_count": 7,
     "metadata": {},
     "output_type": "execute_result"
    }
   ],
   "source": [
    "# Creating the embedding matrix \n",
    "\n",
    "C = torch.randn(27,2)\n",
    "C[:3]"
   ]
  },
  {
   "cell_type": "code",
   "execution_count": 8,
   "id": "4578a740",
   "metadata": {},
   "outputs": [
    {
     "data": {
      "text/plain": [
       "torch.Size([228146, 3, 2])"
      ]
     },
     "execution_count": 8,
     "metadata": {},
     "output_type": "execute_result"
    }
   ],
   "source": [
    "emb = C[X]\n",
    "emb.shape # Eg: [0 , 0 , 0] here gets the first row assigned to each of these ; so 3,2 and 32 such inputs."
   ]
  },
  {
   "cell_type": "code",
   "execution_count": 9,
   "id": "08e5b781",
   "metadata": {},
   "outputs": [],
   "source": [
    "# Second layer with 100 neurons\n",
    "W1 = torch.randn(6,100)\n",
    "b1 = torch.randn(100)"
   ]
  },
  {
   "cell_type": "code",
   "execution_count": 10,
   "id": "9424f44e",
   "metadata": {},
   "outputs": [
    {
     "data": {
      "text/plain": [
       "tensor([[-0.8013, -0.7855, -0.8013, -0.7855, -0.8013, -0.7855],\n",
       "        [-0.8013, -0.7855, -0.8013, -0.7855,  0.1935, -0.4867],\n",
       "        [-0.8013, -0.7855,  0.1935, -0.4867,  1.8749, -3.1416],\n",
       "        [ 0.1935, -0.4867,  1.8749, -3.1416,  1.8749, -3.1416]])"
      ]
     },
     "execution_count": 10,
     "metadata": {},
     "output_type": "execute_result"
    }
   ],
   "source": [
    "# Need to concatenate these to matrix multiply \n",
    "\n",
    "emb_cat = torch.cat((emb[:,0,:] , emb[:,1,:] , emb[:,2,:]), 1)\n",
    "\n",
    "# To explain : instead of having [0 0 0] map as [[0.6044 , -0.3516],  we are mapping it as [0.6044 , -0.3516 , 0.6044 , -0.3516 , 0.6044 , -0.3516]\n",
    "#                                                [0.6044 , -0.3516],\n",
    "#                                                [0.6044 , -0.3516]]\n",
    "# and this as you can see makes [3,2] as [6]\n",
    "\n",
    "emb_cat[:4]"
   ]
  },
  {
   "cell_type": "code",
   "execution_count": 11,
   "id": "6ee90848",
   "metadata": {},
   "outputs": [
    {
     "data": {
      "text/plain": [
       "tensor([[-0.8013, -0.7855, -0.8013, -0.7855, -0.8013, -0.7855],\n",
       "        [-0.8013, -0.7855, -0.8013, -0.7855,  0.1935, -0.4867],\n",
       "        [-0.8013, -0.7855,  0.1935, -0.4867,  1.8749, -3.1416],\n",
       "        [ 0.1935, -0.4867,  1.8749, -3.1416,  1.8749, -3.1416]])"
      ]
     },
     "execution_count": 11,
     "metadata": {},
     "output_type": "execute_result"
    }
   ],
   "source": [
    "# The above method does not generalize so we can try torch.unbind and then concatenate that\n",
    "\n",
    "emb_unbind = (torch.cat(torch.unbind(emb , 1),1))\n",
    "emb_unbind[:4]"
   ]
  },
  {
   "cell_type": "code",
   "execution_count": 12,
   "id": "cb5c97b7",
   "metadata": {},
   "outputs": [],
   "source": [
    "# Both the above methods are not as efficient as using 'view' attribute. This is because of the fact that\n",
    "# internally pytorch stores the data in a tensor in sort a linear form and therefore when we use view it simply\n",
    "# uses some attributes to rearrange and output the result ; so new memory is not generated. \n",
    "\n",
    "# Incase of the other two methods, new tensors are geenrtaed and hence memory is used and it is not as efficient."
   ]
  },
  {
   "cell_type": "code",
   "execution_count": 13,
   "id": "8fb88a3f",
   "metadata": {},
   "outputs": [],
   "source": [
    "W2 = torch.randn(100,27)\n",
    "b2 = torch.rand(27)\n",
    "\n",
    "parameters = [C , W1 , b1 , W2 , b2]"
   ]
  },
  {
   "cell_type": "code",
   "execution_count": 14,
   "id": "4038ac86",
   "metadata": {},
   "outputs": [
    {
     "data": {
      "text/plain": [
       "3481"
      ]
     },
     "execution_count": 14,
     "metadata": {},
     "output_type": "execute_result"
    }
   ],
   "source": [
    "for p in parameters :\n",
    "    p.requires_grad = True\n",
    "    \n",
    "    \n",
    "sum(p.nelement() for p in parameters)"
   ]
  },
  {
   "cell_type": "code",
   "execution_count": 27,
   "id": "ca742677",
   "metadata": {},
   "outputs": [],
   "source": [
    "# learning rate scheduler \n",
    "\n",
    "lre = torch.linspace(-3,0,1000)\n",
    "lrs = 10**lre"
   ]
  },
  {
   "cell_type": "code",
   "execution_count": 41,
   "id": "e49880d0",
   "metadata": {},
   "outputs": [],
   "source": [
    "# train , test, cv split \n",
    "\n",
    "n1 = 182516 # (0.8 * num)\n",
    "n2 = 205331 # (0.9 * num) \n",
    "\n",
    "X_train = X[:n1]\n",
    "Y_train = Y[:n1]\n",
    "\n",
    "\n",
    "X_cv = X[n1:n2]\n",
    "Y_cv = Y[n1:n2]\n",
    "\n",
    "X_test = X[n2:]\n",
    "Y_test = X[n2:]"
   ]
  },
  {
   "cell_type": "code",
   "execution_count": 59,
   "id": "046b19f5",
   "metadata": {},
   "outputs": [],
   "source": [
    "# gradient descent \n",
    "\n",
    "lri = []\n",
    "lossi = []\n",
    "stepi = [] \n",
    "\n",
    "for i in range(1000):\n",
    "    \n",
    "    \n",
    "    # creating mini-batches for faster training\n",
    "    ix = torch.randint(0, X_train.shape[0],(32,))\n",
    "    \n",
    "    \n",
    "    # forward pass    \n",
    "    emb = C[X_train[ix]]\n",
    "   \n",
    "    h = torch.tanh((emb.view(-1,6) @ W1 + b1))\n",
    "\n",
    "    # Broadcasting rule\n",
    "    # (32,100)\n",
    "    # (1,100) --> (32,100) so same vector to each row as intended\n",
    "\n",
    "    logits = h @ W2 + b2 \n",
    "    # counts = logits.exp()\n",
    "    # probs = counts/torch.sum(counts, axis =1 , keepdims = True)\n",
    "    # loss = -probs[torch.arange(32) , Y].log().mean()\n",
    "    loss = F.cross_entropy(logits, Y_train[ix]) # Much more efficient forward pass , backward pass and uses a fused kernel\n",
    "    # no intermediate tensor creation , backward pass is more efficient becuase the grad expressions simplify like\n",
    "    # seen with tanh in micrograd ; also overcomes the number of digits restriction of a floating point number.\n",
    "    \n",
    "\n",
    "    # backward pass \n",
    "\n",
    "    for p in parameters:\n",
    "        p.grad = None\n",
    "\n",
    "    loss.backward()\n",
    "    \n",
    "    lr = 0.001 # found after scheduling\n",
    "    # lri.append(lr)\n",
    "\n",
    "    # update\n",
    "\n",
    "    for p in parameters:\n",
    "        p.data += -lr * p.grad\n",
    "        \n",
    "    \n",
    "    lossi.append(loss.item()) \n",
    "    stepi.append(i)\n",
    "        "
   ]
  },
  {
   "cell_type": "code",
   "execution_count": 60,
   "id": "7af499ad",
   "metadata": {},
   "outputs": [
    {
     "data": {
      "text/plain": [
       "[<matplotlib.lines.Line2D at 0x148db13d0>]"
      ]
     },
     "execution_count": 60,
     "metadata": {},
     "output_type": "execute_result"
    },
    {
     "data": {
      "image/png": "[encoded data removed]",
      "text/plain": [
       "<Figure size 640x480 with 1 Axes>"
      ]
     },
     "metadata": {},
     "output_type": "display_data"
    }
   ],
   "source": [
    "plt.plot(stepi,lossi)"
   ]
  },
  {
   "cell_type": "code",
   "execution_count": 61,
   "id": "b1f1707e",
   "metadata": {},
   "outputs": [],
   "source": [
    "# Training loss on the whole train set \n",
    "\n",
    "emb = C[X_train]\n",
    "h = torch.tanh((emb.view(-1,6) @ W1 + b1))\n",
    "logits = h @ W2 + b2\n",
    "loss_train = F.cross_entropy(logits, Y_train)"
   ]
  },
  {
   "cell_type": "code",
   "execution_count": 62,
   "id": "8fdfe8de",
   "metadata": {},
   "outputs": [],
   "source": [
    "# Cross-validation loss on the test set \n",
    "\n",
    "emb = C[X_cv]\n",
    "h = torch.tanh((emb.view(-1,6) @ W1 + b1))\n",
    "logits = h @ W2 + b2\n",
    "loss_cv = F.cross_entropy(logits, Y_cv)"
   ]
  },
  {
   "cell_type": "code",
   "execution_count": 63,
   "id": "c1398dfd",
   "metadata": {},
   "outputs": [
    {
     "name": "stdout",
     "output_type": "stream",
     "text": [
      "Loss on the training set is : 2.3742129802703857\n",
      "Loss on the cross-validation set is : 2.566240072250366\n"
     ]
    }
   ],
   "source": [
    "print (f'Loss on the training set is : {loss_train.item()}')\n",
    "print (f'Loss on the cross-validation set is : {loss_cv.item()}')"
   ]
  },
  {
   "cell_type": "code",
   "execution_count": 66,
   "id": "3a8de536",
   "metadata": {},
   "outputs": [
    {
     "data": {
      "image/png": "[encoded data removed]",
      "text/plain": [
       "<Figure size 800x800 with 1 Axes>"
      ]
     },
     "metadata": {},
     "output_type": "display_data"
    }
   ],
   "source": [
    "# showing ditribution of characters into 2 dimensions\n",
    "\n",
    "plt.figure(figsize = (8,8))\n",
    "plt.scatter(C[:,0].data , C[:,1].data , s=200)\n",
    "for i in range (C.shape[0]):\n",
    "    plt.text(C[i,0].item(),C[i,1].item(), itos[i] , ha = 'center' , va= 'center' , color = 'white')\n",
    "plt.grid('minor')\n",
    "    "
   ]
  },
  {
   "cell_type": "code",
   "execution_count": 73,
   "id": "e9149b45",
   "metadata": {},
   "outputs": [
    {
     "name": "stdout",
     "output_type": "stream",
     "text": [
      "feddalina.\n",
      "lulynnend.\n",
      "soseliaa.\n",
      "aamareri.\n",
      "lish.\n",
      "kevenghogtic.\n",
      "cozjywe.\n",
      "eleleesellina.\n",
      "keece.\n",
      "racy.\n"
     ]
    }
   ],
   "source": [
    "# Sampling of the names from this model \n",
    "\n",
    "for i in range (10):\n",
    "    name = []\n",
    "    context = [0]* block_size\n",
    "    \n",
    "    while True:\n",
    "        \n",
    "        emb = C[torch.tensor(context)]\n",
    "        h = torch.tanh((emb.view(-1,6) @ W1 + b1))\n",
    "        logits = h @ W2 + b2\n",
    "        probs = F.softmax(logits, dim = 1)\n",
    "        ix = torch.multinomial(probs, num_samples = 1, replacement = True ).item()\n",
    "        \n",
    "        context = context[1:] + [ix]\n",
    "        name.append(itos[ix])\n",
    "        if ix == 0:\n",
    "            break\n",
    "    print(''.join(name))      "
   ]
  },
  {
   "cell_type": "code",
   "execution_count": null,
   "id": "dfd9b96e",
   "metadata": {},
   "outputs": [],
   "source": []
  }
 ],
 "metadata": {
  "kernelspec": {
   "display_name": "ml",
   "language": "python",
   "name": "ml"
  },
  "language_info": {
   "codemirror_mode": {
    "name": "ipython",
    "version": 3
   },
   "file_extension": ".py",
   "mimetype": "text/x-python",
   "name": "python",
   "nbconvert_exporter": "python",
   "pygments_lexer": "ipython3",
   "version": "3.11.6"
  }
 },
 "nbformat": 4,
 "nbformat_minor": 5
}
